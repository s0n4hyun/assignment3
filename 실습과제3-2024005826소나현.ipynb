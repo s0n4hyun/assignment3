{
 "cells": [
  {
   "cell_type": "code",
   "execution_count": null,
   "id": "189ffa2e",
   "metadata": {},
   "outputs": [],
   "source": [
    "def divide_numbers():\n",
    "    try:\n",
    "        dividend = int(input(\"나눠지는 수를 입력하세요: \"))\n",
    "        divisor = int(input(\"나누는 수를 입력하세요: \"))\n",
    "\n",
    "        result = dividend / divisor\n",
    "        print(f\"{dividend}을(를) {divisor}로 나눈 결과는 {result}입니다.\")\n",
    "    \n",
    "    except ValueError:\n",
    "        print(\"잘못된 입력입니다. 자연수를 입력하세요.\")\n",
    "    \n",
    "    except ZeroDivisionError:\n",
    "        print(\"0으로 나눌 수 없습니다. 다른 수를 입력하세요.\")\n",
    "\n",
    "    except Exception as e:\n",
    "        print(\"오류가 발생했습니다:\", e)\n",
    "\n",
    "divide_numbers()\n"
   ]
  }
 ],
 "metadata": {
  "kernelspec": {
   "display_name": "Python 3 (ipykernel)",
   "language": "python",
   "name": "python3"
  },
  "language_info": {
   "codemirror_mode": {
    "name": "ipython",
    "version": 3
   },
   "file_extension": ".py",
   "mimetype": "text/x-python",
   "name": "python",
   "nbconvert_exporter": "python",
   "pygments_lexer": "ipython3",
   "version": "3.11.7"
  }
 },
 "nbformat": 4,
 "nbformat_minor": 5
}
